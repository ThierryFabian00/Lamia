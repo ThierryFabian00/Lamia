{
 "cells": [
  {
   "cell_type": "code",
   "execution_count": 9,
   "id": "41e4e03c-8330-4f5d-8936-6710e8135427",
   "metadata": {},
   "outputs": [],
   "source": [
    "import numpy as np\n",
    "import pandas as pd"
   ]
  },
  {
   "cell_type": "code",
   "execution_count": 12,
   "id": "e51ff8cc-3577-4ef0-b855-06b3302ace2a",
   "metadata": {},
   "outputs": [],
   "source": [
    "labels = ['a', 'b', 'c']"
   ]
  },
  {
   "cell_type": "code",
   "execution_count": 20,
   "id": "3c0a0b56-4e97-4bec-955b-79c6422e0a59",
   "metadata": {},
   "outputs": [],
   "source": [
    "minha_lista = [10, 20, 30]\n",
    "arr = np.array([10, 20, 30])\n",
    "d = {'a':10, 'b':20, 'c':30}"
   ]
  },
  {
   "cell_type": "markdown",
   "id": "4d8671dc-23c8-4b97-b0b6-a387eb3f8c02",
   "metadata": {},
   "source": [
    "Transformanado dem Serie:"
   ]
  },
  {
   "cell_type": "code",
   "execution_count": 23,
   "id": "0c5f666c-c609-4495-ac19-b048ebcc40a6",
   "metadata": {},
   "outputs": [
    {
     "data": {
      "text/plain": [
       "a    10\n",
       "b    20\n",
       "c    30\n",
       "dtype: int64"
      ]
     },
     "execution_count": 23,
     "metadata": {},
     "output_type": "execute_result"
    }
   ],
   "source": [
    "pd.Series(data=minha_lista, index=labels)"
   ]
  },
  {
   "cell_type": "markdown",
   "id": "429c2fe6-0379-4f09-8935-c7a5d431dc7e",
   "metadata": {},
   "source": [
    "Agora os valores estao associados a um indice (parecido com dicionario)"
   ]
  },
  {
   "cell_type": "code",
   "execution_count": 26,
   "id": "cd318846-cf82-4f60-95d7-781c706d0933",
   "metadata": {},
   "outputs": [],
   "source": [
    "series = pd.Series(data=minha_lista, index=labels)"
   ]
  },
  {
   "cell_type": "markdown",
   "id": "aa456ac7-1739-469f-ac88-105c0d41300b",
   "metadata": {},
   "source": [
    "Acessando valores"
   ]
  },
  {
   "cell_type": "code",
   "execution_count": 31,
   "id": "164441d3-0808-44ad-8615-a629bd96eabc",
   "metadata": {},
   "outputs": [
    {
     "data": {
      "text/plain": [
       "20"
      ]
     },
     "execution_count": 31,
     "metadata": {},
     "output_type": "execute_result"
    }
   ],
   "source": [
    "series['b']"
   ]
  },
  {
   "cell_type": "code",
   "execution_count": 33,
   "id": "34b77378-9ede-49ea-9731-18471788f9e8",
   "metadata": {},
   "outputs": [
    {
     "data": {
      "text/plain": [
       "10    a\n",
       "20    b\n",
       "30    c\n",
       "dtype: object"
      ]
     },
     "execution_count": 33,
     "metadata": {},
     "output_type": "execute_result"
    }
   ],
   "source": [
    "pd.Series(labels, minha_lista)"
   ]
  },
  {
   "cell_type": "markdown",
   "id": "e2ab5633-9555-4644-b660-718e9b3e9e2a",
   "metadata": {},
   "source": [
    "pode subistituir a labels por arrays"
   ]
  },
  {
   "cell_type": "code",
   "execution_count": 38,
   "id": "acfcae00-1278-4599-ab87-c6b544525499",
   "metadata": {},
   "outputs": [
    {
     "data": {
      "text/plain": [
       "a    10\n",
       "b    20\n",
       "c    30\n",
       "dtype: int32"
      ]
     },
     "execution_count": 38,
     "metadata": {},
     "output_type": "execute_result"
    }
   ],
   "source": [
    "pd.Series(arr, labels)"
   ]
  },
  {
   "cell_type": "markdown",
   "id": "f266f8d0-a20e-489f-8dad-555cc19728b3",
   "metadata": {},
   "source": [
    "Pode colocar metodos para deixar uma referencia a essas funcoes"
   ]
  },
  {
   "cell_type": "code",
   "execution_count": 42,
   "id": "f796f5f6-353b-4e92-952b-49be6aa494f8",
   "metadata": {},
   "outputs": [
    {
     "data": {
      "text/plain": [
       "0      <built-in function sum>\n",
       "1    <built-in function print>\n",
       "2      <built-in function len>\n",
       "dtype: object"
      ]
     },
     "execution_count": 42,
     "metadata": {},
     "output_type": "execute_result"
    }
   ],
   "source": [
    "pd.Series([sum, print, len])"
   ]
  },
  {
   "cell_type": "code",
   "execution_count": 53,
   "id": "d2b85074-9c0b-4744-9c9e-19c2147dee0c",
   "metadata": {},
   "outputs": [],
   "source": [
    "ser1 = pd.Series([1, 2, 3, 4], index=['EUA', 'Alemanha', 'URSS', 'Japao'])"
   ]
  },
  {
   "cell_type": "code",
   "execution_count": 55,
   "id": "5108036f-b189-43ac-9be0-4947bc35d96a",
   "metadata": {},
   "outputs": [
    {
     "data": {
      "text/plain": [
       "EUA         1\n",
       "Alemanha    2\n",
       "URSS        3\n",
       "Japao       4\n",
       "dtype: int64"
      ]
     },
     "execution_count": 55,
     "metadata": {},
     "output_type": "execute_result"
    }
   ],
   "source": [
    "ser1"
   ]
  },
  {
   "cell_type": "code",
   "execution_count": 57,
   "id": "95f4ec84-214b-402e-bde7-3bb0d017a89c",
   "metadata": {},
   "outputs": [],
   "source": [
    "ser2 = pd.Series([1, 2, 3, 4], index=['EUA', 'Alemanha', 'Italia', 'Japao'])"
   ]
  },
  {
   "cell_type": "code",
   "execution_count": 59,
   "id": "4fd930a1-12de-446c-bc81-6095c005dbe4",
   "metadata": {},
   "outputs": [
    {
     "data": {
      "text/plain": [
       "EUA         1\n",
       "Alemanha    2\n",
       "Italia      3\n",
       "Japao       4\n",
       "dtype: int64"
      ]
     },
     "execution_count": 59,
     "metadata": {},
     "output_type": "execute_result"
    }
   ],
   "source": [
    "ser2"
   ]
  },
  {
   "cell_type": "markdown",
   "id": "18fe4385-a518-499c-bd72-b8a2acd113b3",
   "metadata": {},
   "source": [
    "Operacoes com series"
   ]
  },
  {
   "cell_type": "code",
   "execution_count": 62,
   "id": "028632ed-b0fd-4d9c-a859-01596c07e0a7",
   "metadata": {},
   "outputs": [
    {
     "data": {
      "text/plain": [
       "Alemanha    4.0\n",
       "EUA         2.0\n",
       "Italia      NaN\n",
       "Japao       8.0\n",
       "URSS        NaN\n",
       "dtype: float64"
      ]
     },
     "execution_count": 62,
     "metadata": {},
     "output_type": "execute_result"
    }
   ],
   "source": [
    "ser1 + ser2"
   ]
  },
  {
   "cell_type": "markdown",
   "id": "3135bec2-c1c3-4cba-b22f-980811420fbe",
   "metadata": {},
   "source": [
    "A ideia do pandas e fazer operacoes baseadas no indice"
   ]
  },
  {
   "cell_type": "code",
   "execution_count": null,
   "id": "286c3a8d-52f1-4dce-8f48-095a9b4ec92d",
   "metadata": {},
   "outputs": [],
   "source": []
  }
 ],
 "metadata": {
  "kernelspec": {
   "display_name": "Python 3 (ipykernel)",
   "language": "python",
   "name": "python3"
  },
  "language_info": {
   "codemirror_mode": {
    "name": "ipython",
    "version": 3
   },
   "file_extension": ".py",
   "mimetype": "text/x-python",
   "name": "python",
   "nbconvert_exporter": "python",
   "pygments_lexer": "ipython3",
   "version": "3.12.4"
  }
 },
 "nbformat": 4,
 "nbformat_minor": 5
}
