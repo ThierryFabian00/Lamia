{
 "cells": [
  {
   "cell_type": "code",
   "execution_count": 4,
   "id": "41e6eb36-3b37-4454-815a-638a7543f7cd",
   "metadata": {},
   "outputs": [],
   "source": [
    "import numpy as np"
   ]
  },
  {
   "cell_type": "markdown",
   "id": "bc0c7112-565d-44b4-9660-f420762039a8",
   "metadata": {},
   "source": [
    "importa a biblioteca numpy e atrui o nom np"
   ]
  },
  {
   "cell_type": "code",
   "execution_count": 7,
   "id": "f65b2db9-02dd-4585-a311-815f534adb97",
   "metadata": {},
   "outputs": [],
   "source": [
    "minha_lista = [1, 2, 3]"
   ]
  },
  {
   "cell_type": "code",
   "execution_count": 11,
   "id": "bb9a1e3c-2b33-4da1-8362-6b17fcdd8889",
   "metadata": {},
   "outputs": [
    {
     "data": {
      "text/plain": [
       "[1, 2, 3]"
      ]
     },
     "execution_count": 11,
     "metadata": {},
     "output_type": "execute_result"
    }
   ],
   "source": [
    "minha_lista"
   ]
  },
  {
   "cell_type": "code",
   "execution_count": 13,
   "id": "640f57fe-d96c-4393-bc0e-45abefd6828a",
   "metadata": {},
   "outputs": [
    {
     "data": {
      "text/plain": [
       "array([1, 2, 3])"
      ]
     },
     "execution_count": 13,
     "metadata": {},
     "output_type": "execute_result"
    }
   ],
   "source": [
    "np.array(minha_lista)"
   ]
  },
  {
   "cell_type": "markdown",
   "id": "cf5d1c49-7f10-4f89-802b-8e34a4074876",
   "metadata": {},
   "source": [
    "Converte uma lista em um array"
   ]
  },
  {
   "cell_type": "code",
   "execution_count": 20,
   "id": "8d68e3a6-2e1b-4d16-9d4a-a0cbd3278d03",
   "metadata": {},
   "outputs": [],
   "source": [
    "minha_matriz = [[1, 2, 3], [4, 5, 6], [7, 8, 9]]"
   ]
  },
  {
   "cell_type": "code",
   "execution_count": 22,
   "id": "b4e79cc6-be5a-43bc-9f43-a3a79d87c7a2",
   "metadata": {},
   "outputs": [
    {
     "data": {
      "text/plain": [
       "array([[1, 2, 3],\n",
       "       [4, 5, 6],\n",
       "       [7, 8, 9]])"
      ]
     },
     "execution_count": 22,
     "metadata": {},
     "output_type": "execute_result"
    }
   ],
   "source": [
    "np.array(minha_matriz)"
   ]
  },
  {
   "cell_type": "code",
   "execution_count": 24,
   "id": "577e2e2a-a45d-4575-aa77-19de885abdbb",
   "metadata": {},
   "outputs": [
    {
     "data": {
      "text/plain": [
       "array([0, 1, 2, 3, 4, 5, 6, 7, 8, 9])"
      ]
     },
     "execution_count": 24,
     "metadata": {},
     "output_type": "execute_result"
    }
   ],
   "source": [
    "np.arange(0, 10)"
   ]
  },
  {
   "cell_type": "markdown",
   "id": "83b8bb4b-b1c7-4edf-ba07-33cfc5681d14",
   "metadata": {},
   "source": [
    "Para criar uma sequencia de numeros"
   ]
  },
  {
   "cell_type": "markdown",
   "id": "1e0c47a2-7219-446e-9ded-a2e71b8cc7f1",
   "metadata": {},
   "source": [
    "SHIFT + TAB para documentacao"
   ]
  },
  {
   "cell_type": "code",
   "execution_count": 28,
   "id": "ec4dc0c8-3ce4-441d-a2fb-62c4ce735b5d",
   "metadata": {},
   "outputs": [
    {
     "data": {
      "text/plain": [
       "array([0, 2, 4, 6, 8])"
      ]
     },
     "execution_count": 28,
     "metadata": {},
     "output_type": "execute_result"
    }
   ],
   "source": [
    "np.arange(0, 10, 2)"
   ]
  },
  {
   "cell_type": "code",
   "execution_count": 32,
   "id": "30f3f9fc-c87c-4349-8d09-f365e3bd28ae",
   "metadata": {},
   "outputs": [
    {
     "data": {
      "text/plain": [
       "array([0., 0., 0.])"
      ]
     },
     "execution_count": 32,
     "metadata": {},
     "output_type": "execute_result"
    }
   ],
   "source": [
    "np.zeros(3)"
   ]
  },
  {
   "cell_type": "markdown",
   "id": "127ec416-22dc-4a3f-a151-2c3909591016",
   "metadata": {},
   "source": [
    "Para criar uma matriz so de zeros"
   ]
  },
  {
   "cell_type": "code",
   "execution_count": 35,
   "id": "f502db76-280b-4f16-bbb4-ecb5ea9640a9",
   "metadata": {},
   "outputs": [],
   "source": [
    "arr = np.zeros(3)"
   ]
  },
  {
   "cell_type": "code",
   "execution_count": 37,
   "id": "954c0f4d-df2a-4f8f-af4b-5c8656f2d6fc",
   "metadata": {},
   "outputs": [
    {
     "data": {
      "text/plain": [
       "array([0., 0., 0.])"
      ]
     },
     "execution_count": 37,
     "metadata": {},
     "output_type": "execute_result"
    }
   ],
   "source": [
    "arr"
   ]
  },
  {
   "cell_type": "code",
   "execution_count": 39,
   "id": "ba174094-56cd-4440-a275-90ce849bd879",
   "metadata": {},
   "outputs": [],
   "source": [
    "arr = np.zeros((5, 5))"
   ]
  },
  {
   "cell_type": "code",
   "execution_count": 41,
   "id": "0fbcda32-7ee9-45d9-9d7d-8a1c1f0a1dec",
   "metadata": {},
   "outputs": [
    {
     "data": {
      "text/plain": [
       "array([[0., 0., 0., 0., 0.],\n",
       "       [0., 0., 0., 0., 0.],\n",
       "       [0., 0., 0., 0., 0.],\n",
       "       [0., 0., 0., 0., 0.],\n",
       "       [0., 0., 0., 0., 0.]])"
      ]
     },
     "execution_count": 41,
     "metadata": {},
     "output_type": "execute_result"
    }
   ],
   "source": [
    "arr"
   ]
  },
  {
   "cell_type": "markdown",
   "id": "fb131730-24ff-45a6-ae44-1d50493dcebc",
   "metadata": {},
   "source": [
    "Passa uma tupla para criar uma matriz de zeros"
   ]
  },
  {
   "cell_type": "code",
   "execution_count": 44,
   "id": "cf2c0448-0cfa-414b-ab1b-9a727986e083",
   "metadata": {},
   "outputs": [
    {
     "data": {
      "text/plain": [
       "array([[1., 1., 1.],\n",
       "       [1., 1., 1.],\n",
       "       [1., 1., 1.]])"
      ]
     },
     "execution_count": 44,
     "metadata": {},
     "output_type": "execute_result"
    }
   ],
   "source": [
    "np.ones((3, 3))"
   ]
  },
  {
   "cell_type": "markdown",
   "id": "78e3270f-5410-4c9a-9f2c-1122d52a010b",
   "metadata": {},
   "source": [
    "Para criar matriz de 1"
   ]
  },
  {
   "cell_type": "code",
   "execution_count": 47,
   "id": "90701972-97aa-48c0-8beb-dd35f4d22b9a",
   "metadata": {},
   "outputs": [
    {
     "data": {
      "text/plain": [
       "array([[1., 0., 0., 0.],\n",
       "       [0., 1., 0., 0.],\n",
       "       [0., 0., 1., 0.],\n",
       "       [0., 0., 0., 1.]])"
      ]
     },
     "execution_count": 47,
     "metadata": {},
     "output_type": "execute_result"
    }
   ],
   "source": [
    "np.eye(4)"
   ]
  },
  {
   "cell_type": "markdown",
   "id": "f77408eb-6f0a-4acf-961c-9b0749371e59",
   "metadata": {},
   "source": [
    "Criarcao de matriz identidade "
   ]
  },
  {
   "cell_type": "code",
   "execution_count": 50,
   "id": "83e82b57-9229-4324-bcfb-a813ca2f4143",
   "metadata": {},
   "outputs": [
    {
     "data": {
      "text/plain": [
       "array([ 0., 10.])"
      ]
     },
     "execution_count": 50,
     "metadata": {},
     "output_type": "execute_result"
    }
   ],
   "source": [
    "np.linspace(0, 10, 2)"
   ]
  },
  {
   "cell_type": "markdown",
   "id": "38b96249-bdc4-449a-94c1-9c31eb1c0cea",
   "metadata": {},
   "source": [
    "np.linspace(0, 10, 3)"
   ]
  },
  {
   "cell_type": "markdown",
   "id": "ba05bc2d-0480-43d3-8612-6de81a83e73f",
   "metadata": {},
   "source": [
    "Retorna números uniformemente espaçados em um intervalo especificado"
   ]
  },
  {
   "cell_type": "code",
   "execution_count": 61,
   "id": "b73c9cfa-5c21-416d-88cc-f3fac136f4f4",
   "metadata": {},
   "outputs": [
    {
     "data": {
      "text/plain": [
       "array([0.91986653, 0.76636023, 0.31717343, 0.5300355 , 0.64596601])"
      ]
     },
     "execution_count": 61,
     "metadata": {},
     "output_type": "execute_result"
    }
   ],
   "source": [
    "np.random.rand(5)"
   ]
  },
  {
   "cell_type": "markdown",
   "id": "76165ca3-6899-4401-a617-a53f6d48a3ed",
   "metadata": {},
   "source": [
    "Cria numeros aleotorios de 0 a 1 seguindo uma distribuicao uniforme"
   ]
  },
  {
   "cell_type": "code",
   "execution_count": 64,
   "id": "f7c0be97-7285-4d0d-8c36-be9a2091c439",
   "metadata": {},
   "outputs": [
    {
     "data": {
      "text/plain": [
       "array([81.26022066, 98.57958919, 95.24658573, 71.6650968 , 51.00002403])"
      ]
     },
     "execution_count": 64,
     "metadata": {},
     "output_type": "execute_result"
    }
   ],
   "source": [
    "np.random.rand(5) * 100"
   ]
  },
  {
   "cell_type": "code",
   "execution_count": 66,
   "id": "4a656086-e0e7-49a6-aed7-a69883562fa5",
   "metadata": {},
   "outputs": [
    {
     "data": {
      "text/plain": [
       "array([[0.12500296, 0.45091673, 0.51521311, 0.60658357],\n",
       "       [0.50612143, 0.23730964, 0.87178902, 0.64273321],\n",
       "       [0.33810559, 0.85212143, 0.27752857, 0.32523384],\n",
       "       [0.19046888, 0.25139419, 0.8252416 , 0.28102323],\n",
       "       [0.8055755 , 0.97375756, 0.59455457, 0.31913911]])"
      ]
     },
     "execution_count": 66,
     "metadata": {},
     "output_type": "execute_result"
    }
   ],
   "source": [
    "np.random.rand(5, 4)"
   ]
  },
  {
   "cell_type": "markdown",
   "id": "85f5f6b7-2052-41c2-8122-0fd67223159d",
   "metadata": {},
   "source": [
    "np.random.randn(4)"
   ]
  },
  {
   "cell_type": "markdown",
   "id": "036c7f56-bbbe-44ff-a805-155a0f663d14",
   "metadata": {},
   "source": [
    "numeros aleotorios sem distribuicao uniforme"
   ]
  },
  {
   "cell_type": "code",
   "execution_count": 75,
   "id": "d4e5c02a-99d8-4edd-8247-0cc2f82084c4",
   "metadata": {},
   "outputs": [
    {
     "data": {
      "text/plain": [
       "array([ 4, 64, 62, 95, 26, 87, 18, 64, 52, 97])"
      ]
     },
     "execution_count": 75,
     "metadata": {},
     "output_type": "execute_result"
    }
   ],
   "source": [
    "np.random.randint(0, 100, 10)"
   ]
  },
  {
   "cell_type": "markdown",
   "id": "1d0b30b8-eeeb-4cd8-95ea-e188d7481470",
   "metadata": {},
   "source": [
    "numeros inteiros tirados de uma distribuicao aleatoria"
   ]
  },
  {
   "cell_type": "code",
   "execution_count": 78,
   "id": "bd2135db-cd21-4540-9463-f622cef7be57",
   "metadata": {},
   "outputs": [
    {
     "data": {
      "text/plain": [
       "array([37.10342055, 86.35156341, 21.22872587, 99.42863367, 56.80421107])"
      ]
     },
     "execution_count": 78,
     "metadata": {},
     "output_type": "execute_result"
    }
   ],
   "source": [
    "np.random.rand(5) * 100"
   ]
  },
  {
   "cell_type": "code",
   "execution_count": 82,
   "id": "fd0cfeea-0d20-4d99-9985-04fcf4cce6bb",
   "metadata": {},
   "outputs": [
    {
     "data": {
      "text/plain": [
       "array([0., 1., 0., 0., 1.])"
      ]
     },
     "execution_count": 82,
     "metadata": {},
     "output_type": "execute_result"
    }
   ],
   "source": [
    "np.round(np.random.rand(5),0)"
   ]
  },
  {
   "cell_type": "code",
   "execution_count": 84,
   "id": "3aa4a350-9e25-461e-9af2-41d9997a141c",
   "metadata": {},
   "outputs": [
    {
     "data": {
      "text/plain": [
       "array([ 4., 79., 44., 32., 79.])"
      ]
     },
     "execution_count": 84,
     "metadata": {},
     "output_type": "execute_result"
    }
   ],
   "source": [
    "np.round(np.random.rand(5)*100,0)"
   ]
  },
  {
   "cell_type": "markdown",
   "id": "9976a40d-7204-4970-8b79-6a4b6afed2e2",
   "metadata": {},
   "source": [
    "Atributos"
   ]
  },
  {
   "cell_type": "code",
   "execution_count": 89,
   "id": "2c90af18-91b0-4787-bbcd-1837d227030d",
   "metadata": {},
   "outputs": [],
   "source": [
    "arr = np.random.rand(25)"
   ]
  },
  {
   "cell_type": "code",
   "execution_count": 91,
   "id": "3e3f636a-ba96-4260-85d5-0696dfe6a19f",
   "metadata": {},
   "outputs": [
    {
     "data": {
      "text/plain": [
       "array([0.20592129, 0.14613628, 0.4634337 , 0.74043241, 0.14779949,\n",
       "       0.16259952, 0.70837316, 0.6667932 , 0.97047062, 0.53354494,\n",
       "       0.39164909, 0.5079926 , 0.76811879, 0.46982089, 0.46857416,\n",
       "       0.84137417, 0.8389281 , 0.99293542, 0.38372941, 0.16110322,\n",
       "       0.76690232, 0.67388444, 0.2096017 , 0.89693466, 0.11617954])"
      ]
     },
     "execution_count": 91,
     "metadata": {},
     "output_type": "execute_result"
    }
   ],
   "source": [
    "arr"
   ]
  },
  {
   "cell_type": "markdown",
   "id": "a933bef7-740e-40b4-b4db-3ca43e6fd306",
   "metadata": {},
   "source": [
    "Dá uma nova forma a uma matriz sem alterar seus dados"
   ]
  },
  {
   "cell_type": "code",
   "execution_count": 113,
   "id": "dacd8a5e-d51d-4571-8665-5bc1351b3951",
   "metadata": {},
   "outputs": [],
   "source": [
    "arr = arr.reshape((5,5))"
   ]
  },
  {
   "cell_type": "code",
   "execution_count": 115,
   "id": "7957b765-6f5c-40e6-b965-e18952e49664",
   "metadata": {},
   "outputs": [
    {
     "data": {
      "text/plain": [
       "array([[0.20592129, 0.14613628, 0.4634337 , 0.74043241, 0.14779949],\n",
       "       [0.16259952, 0.70837316, 0.6667932 , 0.97047062, 0.53354494],\n",
       "       [0.39164909, 0.5079926 , 0.76811879, 0.46982089, 0.46857416],\n",
       "       [0.84137417, 0.8389281 , 0.99293542, 0.38372941, 0.16110322],\n",
       "       [0.76690232, 0.67388444, 0.2096017 , 0.89693466, 0.11617954]])"
      ]
     },
     "execution_count": 115,
     "metadata": {},
     "output_type": "execute_result"
    }
   ],
   "source": [
    "arr"
   ]
  },
  {
   "cell_type": "code",
   "execution_count": 117,
   "id": "f3a0b9d2-1049-4a54-b2c1-85e8908808a1",
   "metadata": {},
   "outputs": [
    {
     "data": {
      "text/plain": [
       "(5, 5)"
      ]
     },
     "execution_count": 117,
     "metadata": {},
     "output_type": "execute_result"
    }
   ],
   "source": [
    "arr.shape"
   ]
  },
  {
   "cell_type": "markdown",
   "id": "97db3675-2014-4ec4-937a-145b0047cdd2",
   "metadata": {},
   "source": [
    "O formato de uma matriz é o número de elementos em cada dimensão"
   ]
  },
  {
   "cell_type": "code",
   "execution_count": 120,
   "id": "46138ad7-f6d1-47b3-a8ad-efd465da2f9d",
   "metadata": {},
   "outputs": [
    {
     "data": {
      "text/plain": [
       "0.9929354181453531"
      ]
     },
     "execution_count": 120,
     "metadata": {},
     "output_type": "execute_result"
    }
   ],
   "source": [
    "arr.max()"
   ]
  },
  {
   "cell_type": "markdown",
   "id": "e92ab25c-178e-4b4e-b31e-2750f8a6dbc4",
   "metadata": {},
   "source": [
    "encontra o maior valor"
   ]
  },
  {
   "cell_type": "code",
   "execution_count": 127,
   "id": "5a2ad8bf-c32b-4e3a-8c56-204073f28b11",
   "metadata": {},
   "outputs": [
    {
     "data": {
      "text/plain": [
       "0.11617953920499646"
      ]
     },
     "execution_count": 127,
     "metadata": {},
     "output_type": "execute_result"
    }
   ],
   "source": [
    "arr.min()"
   ]
  },
  {
   "cell_type": "markdown",
   "id": "b91f305a-a0bf-407a-81a7-3925332113cb",
   "metadata": {},
   "source": [
    "encontra o menor valor"
   ]
  },
  {
   "cell_type": "code",
   "execution_count": 132,
   "id": "ec191bf7-31bb-4ed8-8835-27892e80ef80",
   "metadata": {},
   "outputs": [
    {
     "data": {
      "text/plain": [
       "17"
      ]
     },
     "execution_count": 132,
     "metadata": {},
     "output_type": "execute_result"
    }
   ],
   "source": [
    "arr.argmax()"
   ]
  },
  {
   "cell_type": "markdown",
   "id": "b8499932-3e43-413c-bc54-22914a835fd8",
   "metadata": {},
   "source": [
    "Retorna os índices dos valores máximos"
   ]
  },
  {
   "cell_type": "code",
   "execution_count": 137,
   "id": "f5059ba6-3da4-4a3d-ad6c-fc5d01b5e80a",
   "metadata": {},
   "outputs": [
    {
     "data": {
      "text/plain": [
       "24"
      ]
     },
     "execution_count": 137,
     "metadata": {},
     "output_type": "execute_result"
    }
   ],
   "source": [
    "arr.argmin()\n"
   ]
  },
  {
   "cell_type": "markdown",
   "id": "e01944ec-225c-4f4e-8455-33172b30a969",
   "metadata": {},
   "source": [
    "Retorna o índice do menor valor"
   ]
  },
  {
   "cell_type": "code",
   "execution_count": null,
   "id": "af8d1127-a32a-44ee-a560-326da129fcdd",
   "metadata": {},
   "outputs": [],
   "source": []
  }
 ],
 "metadata": {
  "kernelspec": {
   "display_name": "Python 3 (ipykernel)",
   "language": "python",
   "name": "python3"
  },
  "language_info": {
   "codemirror_mode": {
    "name": "ipython",
    "version": 3
   },
   "file_extension": ".py",
   "mimetype": "text/x-python",
   "name": "python",
   "nbconvert_exporter": "python",
   "pygments_lexer": "ipython3",
   "version": "3.12.4"
  }
 },
 "nbformat": 4,
 "nbformat_minor": 5
}
