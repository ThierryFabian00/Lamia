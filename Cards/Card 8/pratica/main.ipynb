{
 "cells": [
  {
   "cell_type": "code",
   "execution_count": null,
   "id": "4fe3663c-af07-4fab-92fd-a2298d321613",
   "metadata": {},
   "outputs": [],
   "source": [
    "from bs4 import BeautifulSoup\n",
    "import requests"
   ]
  },
  {
   "cell_type": "markdown",
   "id": "3c47e78d-ee59-4e68-8ba1-02f71d579639",
   "metadata": {},
   "source": [
    "Faz uma requisição para uma página, extrai uma tabela de cotações do dólar de varios anos, e salva os dados dessa tabela em um arquivo de texto"
   ]
  },
  {
   "cell_type": "code",
   "execution_count": 83,
   "id": "7b43476f-110e-4b5b-97c7-336188d771ee",
   "metadata": {},
   "outputs": [],
   "source": [
    "url = 'https://www.aasp.org.br/produtos-servicos/indices-economicos/mensal/dolar/'\n",
    "response = requests.get(url)\n",
    "soup = BeautifulSoup(response.text, 'html.parser')\n",
    "\n",
    "table = soup.find('table', {'class': 'has-fixed-layout'})\n",
    "\n",
    "headers = [header.text.strip() for header in table.find_all('th')]\n",
    "\n",
    "rows = table.find_all('tr')[1:]\n",
    "\n",
    "dollar_data = []"
   ]
  },
  {
   "cell_type": "markdown",
   "id": "c0bf27f6-b238-4252-8fd6-9b39bffbec69",
   "metadata": {},
   "source": [
    "Itera sobre cada linha da tabela extraída anteriormente e processa os dados de cada célula para criar uma estrutura de dados"
   ]
  },
  {
   "cell_type": "code",
   "execution_count": 84,
   "id": "66fd49c4-0907-4eaa-aae5-8aa9b120108f",
   "metadata": {},
   "outputs": [],
   "source": [
    "for row in rows:\n",
    "    columns = row.find_all('td')\n",
    "    row_data = [column.text.strip().replace('.', '').replace(',', '.') for column in columns]\n",
    "    \n",
    "    if row_data:\n",
    "        dollar_data.append(row_data)"
   ]
  },
  {
   "cell_type": "markdown",
   "id": "12773f23-a9db-4e55-8fca-5d27456c26b5",
   "metadata": {},
   "source": [
    "Salva os dados da tabela em um arquivo de texto "
   ]
  },
  {
   "cell_type": "code",
   "execution_count": 85,
   "id": "194142b4-7ec5-4ff4-a29d-50efdb3acda3",
   "metadata": {},
   "outputs": [
    {
     "name": "stdout",
     "output_type": "stream",
     "text": [
      "Dados salvos no arquivo 'cotacao_dolar.txt'.\n"
     ]
    }
   ],
   "source": [
    "with open('cotacao_dolar.txt', 'w') as file:\n",
    "    file.write(','.join(headers) + '\\n')\n",
    "    for data in dollar_data:\n",
    "        file.write(','.join(data) + '\\n')\n",
    "\n",
    "print(\"Dados salvos no arquivo 'cotacao_dolar.txt'.\")"
   ]
  },
  {
   "cell_type": "code",
   "execution_count": null,
   "id": "1ddf2fee-ded6-4a56-8578-cbeba12007c4",
   "metadata": {},
   "outputs": [],
   "source": []
  }
 ],
 "metadata": {
  "kernelspec": {
   "display_name": "Python 3 (ipykernel)",
   "language": "python",
   "name": "python3"
  },
  "language_info": {
   "codemirror_mode": {
    "name": "ipython",
    "version": 3
   },
   "file_extension": ".py",
   "mimetype": "text/x-python",
   "name": "python",
   "nbconvert_exporter": "python",
   "pygments_lexer": "ipython3",
   "version": "3.12.4"
  }
 },
 "nbformat": 4,
 "nbformat_minor": 5
}
