{
 "cells": [
  {
   "cell_type": "code",
   "execution_count": 1,
   "id": "b2308dd1-fdd8-43c1-bf9a-ffe8bd96aa91",
   "metadata": {},
   "outputs": [],
   "source": [
    "from bs4 import BeautifulSoup"
   ]
  },
  {
   "cell_type": "markdown",
   "id": "843b0bf0-c839-4b25-b254-4fa55f1e9cc2",
   "metadata": {},
   "source": [
    "Lendo a pagina HTML"
   ]
  },
  {
   "cell_type": "code",
   "execution_count": 11,
   "id": "e770629e-78d6-4b4d-bc38-497c30bfb4e2",
   "metadata": {},
   "outputs": [],
   "source": [
    "with open('home.html', 'r') as html_file:\n",
    "    content = html_file.read()\n",
    "    "
   ]
  },
  {
   "cell_type": "code",
   "execution_count": 13,
   "id": "1760b2e7-a9c5-44ef-bb3c-badbb33f9a03",
   "metadata": {},
   "outputs": [],
   "source": [
    "soup = BeautifulSoup(content, 'lxml')"
   ]
  },
  {
   "cell_type": "markdown",
   "id": "cd360ee0-61e0-4c0b-a58d-ae11e9d0d8b4",
   "metadata": {},
   "source": [
    "Pegando tags especificas (h5). Esse metodo pega a primeira ocorrencia da tag e executa"
   ]
  },
  {
   "cell_type": "code",
   "execution_count": 20,
   "id": "6492f28d-42c8-4e17-b96d-dd44ad9aecd4",
   "metadata": {},
   "outputs": [
    {
     "name": "stdout",
     "output_type": "stream",
     "text": [
      "<h5 class=\"card-title\">Python for beginners</h5>\n"
     ]
    }
   ],
   "source": [
    "tags = soup.find('h5')\n",
    "print(tags)"
   ]
  },
  {
   "cell_type": "markdown",
   "id": "cf7d3834-9ac7-4e57-8c2c-b0eab9471ef8",
   "metadata": {},
   "source": [
    "Pega todas as ocorrentcias da tag"
   ]
  },
  {
   "cell_type": "code",
   "execution_count": 24,
   "id": "ee62fd7e-2e91-4b5f-801c-d96c877d2f7e",
   "metadata": {},
   "outputs": [
    {
     "name": "stdout",
     "output_type": "stream",
     "text": [
      "[<h5 class=\"card-title\">Python for beginners</h5>, <h5 class=\"card-title\">Python Web Development</h5>, <h5 class=\"card-title\">Python Machine Learning</h5>]\n"
     ]
    }
   ],
   "source": [
    "tags = soup.find_all('h5')\n",
    "print(tags)"
   ]
  },
  {
   "cell_type": "markdown",
   "id": "a240c966-c818-4f98-ba8d-6f7de2b5fc16",
   "metadata": {},
   "source": [
    "Exibindo todos os cursos do html "
   ]
  },
  {
   "cell_type": "code",
   "execution_count": 38,
   "id": "792b683a-1589-45d3-a410-d8415a89f06e",
   "metadata": {},
   "outputs": [
    {
     "name": "stdout",
     "output_type": "stream",
     "text": [
      "Python for beginners\n",
      "Python Web Development\n",
      "Python Machine Learning\n"
     ]
    }
   ],
   "source": [
    "courses_html_tags = soup.find_all('h5')\n",
    "for courser in courses_html_tags:\n",
    "    print(courser.text)"
   ]
  },
  {
   "cell_type": "markdown",
   "id": "cc229417-6194-4fd2-a126-388ab81c86e8",
   "metadata": {},
   "source": [
    "Encontrando cartoes do curso e seus precos"
   ]
  },
  {
   "cell_type": "code",
   "execution_count": 56,
   "id": "87ec4b55-73d9-4920-a841-3f06e631f118",
   "metadata": {},
   "outputs": [
    {
     "name": "stdout",
     "output_type": "stream",
     "text": [
      "Python for beginners custa 20$\n",
      "Python Web Development custa 50$\n",
      "Python Machine Learning custa 100$\n"
     ]
    }
   ],
   "source": [
    "course_cards =  soup.find_all('div', class_='card')\n",
    "for course in course_cards:\n",
    "    course_name = course.h5.text\n",
    "    course_price = course.a.text.split()[-1]\n",
    "\n",
    "    print(f'{course_name} custa {course_price}')"
   ]
  },
  {
   "cell_type": "code",
   "execution_count": null,
   "id": "7bb1b0f8-71c3-445e-9696-1567d3307b9c",
   "metadata": {},
   "outputs": [],
   "source": []
  }
 ],
 "metadata": {
  "kernelspec": {
   "display_name": "Python 3 (ipykernel)",
   "language": "python",
   "name": "python3"
  },
  "language_info": {
   "codemirror_mode": {
    "name": "ipython",
    "version": 3
   },
   "file_extension": ".py",
   "mimetype": "text/x-python",
   "name": "python",
   "nbconvert_exporter": "python",
   "pygments_lexer": "ipython3",
   "version": "3.12.4"
  }
 },
 "nbformat": 4,
 "nbformat_minor": 5
}
