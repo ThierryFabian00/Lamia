{
 "cells": [
  {
   "cell_type": "code",
   "execution_count": 5,
   "id": "5968075d-628f-49ec-af89-26d2ca0dd296",
   "metadata": {},
   "outputs": [],
   "source": [
    "from bs4 import BeautifulSoup\n",
    "import requests\n",
    "import time"
   ]
  },
  {
   "cell_type": "code",
   "execution_count": null,
   "id": "62be4ef9-fa51-474b-a515-944f678ec08e",
   "metadata": {},
   "outputs": [],
   "source": [
    " Usuário irá inserir uma habilidade como filtro"
   ]
  },
  {
   "cell_type": "code",
   "execution_count": null,
   "id": "463acf88-10b6-43ea-8fe6-9223d66a647b",
   "metadata": {},
   "outputs": [],
   "source": [
    "print('Put some skill that you are not familiar with')\n",
    "unfamiliar_skill = input('>')\n",
    "print(f'Filtering out {unfamiliar_skill}')"
   ]
  },
  {
   "cell_type": "markdown",
   "id": "8d7446e3-6294-400d-857d-ff44919e5b47",
   "metadata": {},
   "source": [
    "Essa função realiza a coleta de dados da página de vagas de emprego e salva as informações relevantes em arquivos de texto. "
   ]
  },
  {
   "cell_type": "code",
   "execution_count": null,
   "id": "8061a5fd-98c3-4e60-89c2-38afcd9ef963",
   "metadata": {},
   "outputs": [],
   "source": [
    "def find_jobs():\n",
    "    html_text = requests.get('https://www.timesjobs.com/candidate/job-search.html?searchType=personalizedSearch&from=submit&searchTextSrc=&searchTextText=&txtKeywords=python&txtLocation=').text\n",
    "    soup = BeautifulSoup(html_text, 'lxml')\n",
    "    jobs = soup.find_all('li', class_ = 'clearfix job-bx wht-shd-bx')\n",
    "    for index, job in enumerate(jobs):\n",
    "        published_date = job.find('span', class_ = 'sim-posted').span.text\n",
    "        if 'few' in published_date:\n",
    "            company_name = job.find('h3', class_ = 'joblist-comp-name').text.replace(' ', '')\n",
    "            skills = job.find('span', class_ = 'srp-skills').text.replace(' ','')\n",
    "            more_info = job.header.h2.a['href']\n",
    "            if unfamiliar_skill not in skills:\n",
    "                with open(f'posts/{index}.txt', 'w') as f:\n",
    "                    f.write(f\"Company Name: {company_name.strip()} \\n\")\n",
    "                    f.write(f\"Required Skill: {skills.strip()} \\n\")\n",
    "                    f.write(f\"More Info: {more_info}\")\n",
    "                print(f'File saved: {index}')"
   ]
  },
  {
   "cell_type": "markdown",
   "id": "1ec5e245-9bf2-46e7-adf3-96f78e4c5f82",
   "metadata": {},
   "source": [
    " Bloco faz o código rodar continuamente em um loop infinito atualizando a cada 10 minutos"
   ]
  },
  {
   "cell_type": "code",
   "execution_count": null,
   "id": "647249cc-bf3e-4817-86f3-cc303f84b631",
   "metadata": {},
   "outputs": [],
   "source": [
    "if __name__ == '__main__':\n",
    "    while True:\n",
    "        find_jobs()\n",
    "        time_wait = 10\n",
    "        print(f'wating {time_wait} seconds...')\n",
    "        time.sleep(time_wait * 60)"
   ]
  }
 ],
 "metadata": {
  "kernelspec": {
   "display_name": "Python 3 (ipykernel)",
   "language": "python",
   "name": "python3"
  },
  "language_info": {
   "codemirror_mode": {
    "name": "ipython",
    "version": 3
   },
   "file_extension": ".py",
   "mimetype": "text/x-python",
   "name": "python",
   "nbconvert_exporter": "python",
   "pygments_lexer": "ipython3",
   "version": "3.12.4"
  }
 },
 "nbformat": 4,
 "nbformat_minor": 5
}
